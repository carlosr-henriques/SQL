{
 "cells": [
  {
   "cell_type": "code",
   "execution_count": 22,
   "id": "01aaac89",
   "metadata": {
    "ExecuteTime": {
     "end_time": "2024-06-23T20:02:44.480875Z",
     "start_time": "2024-06-23T20:02:44.473641Z"
    }
   },
   "outputs": [],
   "source": [
    "from sqlalchemy import create_engine\n",
    "import pandas as pd\n",
    "import os\n",
    "import sqlite3\n",
    "\n",
    "pd.set_option(\"display.max_rows\", 100)\n",
    "\n",
    "con = sqlite3.connect(\"olist.db\")\n",
    "cur = con.cursor()\n",
    "\n",
    "engine = create_engine('sqlite:///olist.db', echo=False)"
   ]
  },
  {
   "cell_type": "code",
   "execution_count": 11,
   "id": "a5972389",
   "metadata": {
    "ExecuteTime": {
     "end_time": "2024-06-23T19:54:58.779787Z",
     "start_time": "2024-06-23T19:54:58.732511Z"
    }
   },
   "outputs": [
    {
     "data": {
      "text/plain": [
       "<sqlite3.Cursor at 0x129fc3640>"
      ]
     },
     "execution_count": 11,
     "metadata": {},
     "output_type": "execute_result"
    }
   ],
   "source": [
    "cur.execute(\"\"\"create table customer(\n",
    "    customer_id TEXT NOT NULL, \n",
    "    customer_unique_id TEXT NOT NULL, \n",
    "    customer_zip_code_prefix INTEGER NOT NULL, \n",
    "    customer_city TEXT NOT NULL, \n",
    "    customer_state TEXT NOT NULL\n",
    ")\"\"\")\n",
    "\n",
    "cur.execute(\"\"\"create table geolocation(\n",
    "    geolocation_zip_code_prefix TEXT NOT NULL, \n",
    "    geolocation_lat TEXT NOT NULL, \n",
    "    geolocation_lng INTEGER NOT NULL, \n",
    "    geolocation_city TEXT NOT NULL, \n",
    "    geolocation_state TEXT NOT NULL\n",
    ")\"\"\")\n",
    "\n",
    "cur.execute(\"\"\"create table item(\n",
    "    order_id TEXT NOT NULL, \n",
    "    order_item_id TEXT NOT NULL, \n",
    "    product_id INTEGER NOT NULL, \n",
    "    seller_id TEXT NOT NULL, \n",
    "    shipping_limit_date TEXT NOT NULL,\n",
    "    price REAL NOT NULL,\n",
    "    freight_value REAL NOT NULL\n",
    ")\"\"\")\n",
    "\n",
    "cur.execute(\"\"\"create table payments(\n",
    "    order_id TEXT NOT NULL, \n",
    "    payment_sequential INTEGER NOT NULL, \n",
    "    payment_type TEXT NOT NULL, \n",
    "    payment_installments INTEGER NOT NULL, \n",
    "    payment_value REAL NOT NULL\n",
    ")\"\"\")\n",
    "\n",
    "cur.execute(\"\"\"\n",
    "create table reviews(\n",
    "    review_id TEXT NOT NULL, \n",
    "    order_id TEXT NOT NULL, \n",
    "    review_score INTEGER NOT NULL, \n",
    "    review_comment_title TEXT, \n",
    "    review_comment_message TEXT,\n",
    "    review_creation_date TEXT NOT NULL,\n",
    "    review_answer_timestamp TEXT NOT NULL\n",
    ")\"\"\")\n",
    "\n",
    "cur.execute(\"\"\"\n",
    "create table orders(\n",
    "    order_id,\n",
    "    customer_id TEXT NOT NULL,  \n",
    "    order_status TEXT NOT NULL,\n",
    "    order_purchase_timestamp TEXT NOT NULL,\n",
    "    order_approved_at TEXT,\n",
    "    order_delivered_carrier_date TEXT,\n",
    "    order_delivered_customer_date TEXT,\n",
    "    order_estimated_delivery_date TEXT NOT NULL\n",
    ")\n",
    "\"\"\")\n",
    "\n",
    "cur.execute(\"\"\"\n",
    "create table products(\n",
    "    product_id TEXT NOT NULL,\n",
    "    product_category_name TEXT NOTN ULL,\n",
    "    product_name_lenght TEXT NOT NULL, \n",
    "    product_description_lenght INTEGER NOT NULL, \n",
    "    product_photos_qty INTEGER NOT NULL, \n",
    "    product_weight_g INTEGER NOT NULL, \n",
    "    product_lenght_cm INTEGER NOT NULL, \n",
    "    product_height_cm INTEGER NOT NULL, \n",
    "    product_with_cm INTEGER NOT NULL\n",
    ")\n",
    "\"\"\")\n",
    "\n",
    "cur.execute(\"\"\"\n",
    "create table sellers(\n",
    "    seller_id TEXT NOT NULL,\n",
    "    seller_zip_code_prefix TEXT NOT NULL,\n",
    "    seller_city TEXT NOT NULL,\n",
    "    seller_state TEXT NOT NULL\n",
    ")\n",
    "\"\"\")"
   ]
  },
  {
   "cell_type": "code",
   "execution_count": 12,
   "id": "0cfb04c0",
   "metadata": {
    "ExecuteTime": {
     "end_time": "2024-06-23T19:58:28.427904Z",
     "start_time": "2024-06-23T19:58:26.017353Z"
    }
   },
   "outputs": [],
   "source": [
    "customer = pd.read_csv(\"./archive/olist_customers_dataset.csv\")\n",
    "items = pd.read_csv(\"./archive/olist_order_items_dataset.csv\")\n",
    "payments = pd.read_csv(\"./archive/olist_order_payments_dataset.csv\")\n",
    "geolocation = pd.read_csv(\"./archive/olist_geolocation_dataset.csv\")\n",
    "order = pd.read_csv(\"./archive/olist_orders_dataset.csv\")\n",
    "sellers = pd.read_csv(\"./archive/olist_sellers_dataset.csv\")\n",
    "products = pd.read_csv(\"./archive/olist_products_dataset.csv\")\n",
    "review = pd.read_csv(\"./archive/olist_order_reviews_dataset.csv\")"
   ]
  },
  {
   "cell_type": "code",
   "execution_count": 19,
   "id": "3ef12d39",
   "metadata": {
    "ExecuteTime": {
     "end_time": "2024-06-23T20:00:26.400965Z",
     "start_time": "2024-06-23T20:00:26.374868Z"
    }
   },
   "outputs": [
    {
     "name": "stdout",
     "output_type": "stream",
     "text": [
      "<class 'pandas.core.frame.DataFrame'>\n",
      "RangeIndex: 32951 entries, 0 to 32950\n",
      "Data columns (total 9 columns):\n",
      " #   Column                      Non-Null Count  Dtype  \n",
      "---  ------                      --------------  -----  \n",
      " 0   product_id                  32951 non-null  object \n",
      " 1   product_category_name       32341 non-null  object \n",
      " 2   product_name_lenght         32341 non-null  float64\n",
      " 3   product_description_lenght  32341 non-null  float64\n",
      " 4   product_photos_qty          32341 non-null  float64\n",
      " 5   product_weight_g            32949 non-null  float64\n",
      " 6   product_length_cm           32949 non-null  float64\n",
      " 7   product_height_cm           32949 non-null  float64\n",
      " 8   product_width_cm            32949 non-null  float64\n",
      "dtypes: float64(7), object(2)\n",
      "memory usage: 2.3+ MB\n"
     ]
    }
   ],
   "source": [
    "products.info()"
   ]
  },
  {
   "cell_type": "code",
   "execution_count": 23,
   "id": "bc6bd636",
   "metadata": {
    "ExecuteTime": {
     "end_time": "2024-06-23T20:03:02.012706Z",
     "start_time": "2024-06-23T20:03:01.995933Z"
    }
   },
   "outputs": [
    {
     "data": {
      "text/plain": [
       "product_category_name\n",
       "cama_mesa_banho                                   3029\n",
       "esporte_lazer                                     2867\n",
       "moveis_decoracao                                  2657\n",
       "beleza_saude                                      2444\n",
       "utilidades_domesticas                             2335\n",
       "automotivo                                        1900\n",
       "informatica_acessorios                            1639\n",
       "brinquedos                                        1411\n",
       "relogios_presentes                                1329\n",
       "telefonia                                         1134\n",
       "bebes                                              919\n",
       "perfumaria                                         868\n",
       "papelaria                                          849\n",
       "fashion_bolsas_e_acessorios                        849\n",
       "cool_stuff                                         789\n",
       "ferramentas_jardim                                 753\n",
       "pet_shop                                           719\n",
       "eletronicos                                        517\n",
       "construcao_ferramentas_construcao                  400\n",
       "eletrodomesticos                                   370\n",
       "malas_acessorios                                   349\n",
       "consoles_games                                     317\n",
       "moveis_escritorio                                  309\n",
       "instrumentos_musicais                              289\n",
       "eletroportateis                                    231\n",
       "casa_construcao                                    225\n",
       "livros_interesse_geral                             216\n",
       "fashion_calcados                                   173\n",
       "moveis_sala                                        156\n",
       "climatizacao                                       124\n",
       "livros_tecnicos                                    123\n",
       "telefonia_fixa                                     116\n",
       "casa_conforto                                      111\n",
       "market_place                                       104\n",
       "alimentos_bebidas                                  104\n",
       "fashion_roupa_masculina                             95\n",
       "moveis_cozinha_area_de_servico_jantar_e_jardim      94\n",
       "sinalizacao_e_seguranca                             93\n",
       "construcao_ferramentas_seguranca                    91\n",
       "eletrodomesticos_2                                  90\n",
       "construcao_ferramentas_jardim                       88\n",
       "alimentos                                           82\n",
       "bebidas                                             81\n",
       "construcao_ferramentas_iluminacao                   78\n",
       "agro_industria_e_comercio                           74\n",
       "industria_comercio_e_negocios                       68\n",
       "artigos_de_natal                                    65\n",
       "audio                                               58\n",
       "artes                                               55\n",
       "fashion_underwear_e_moda_praia                      53\n",
       "dvds_blu_ray                                        48\n",
       "moveis_quarto                                       45\n",
       "construcao_ferramentas_ferramentas                  39\n",
       "portateis_casa_forno_e_cafe                         31\n",
       "livros_importados                                   31\n",
       "pcs                                                 30\n",
       "cine_foto                                           28\n",
       "fashion_roupa_feminina                              27\n",
       "musica                                              27\n",
       "artigos_de_festas                                   26\n",
       "fashion_esporte                                     19\n",
       "artes_e_artesanato                                  19\n",
       "flores                                              14\n",
       "fraldas_higiene                                     12\n",
       "la_cuisine                                          10\n",
       "portateis_cozinha_e_preparadores_de_alimentos       10\n",
       "moveis_colchao_e_estofado                           10\n",
       "tablets_impressao_imagem                             9\n",
       "fashion_roupa_infanto_juvenil                        5\n",
       "casa_conforto_2                                      5\n",
       "pc_gamer                                             3\n",
       "seguros_e_servicos                                   2\n",
       "cds_dvds_musicais                                    1\n",
       "Name: count, dtype: int64"
      ]
     },
     "execution_count": 23,
     "metadata": {},
     "output_type": "execute_result"
    }
   ],
   "source": [
    "products[\"product_category_name\"].value_counts()"
   ]
  },
  {
   "cell_type": "code",
   "execution_count": null,
   "id": "28e97676",
   "metadata": {},
   "outputs": [],
   "source": []
  },
  {
   "cell_type": "code",
   "execution_count": null,
   "id": "f6b9de07",
   "metadata": {},
   "outputs": [],
   "source": [
    "def category_adjust(df):\n",
    "    df.replace([\"cama_mesa_banho\", \"casa_conforto\"], \"cama, mesa, banho\", inplace=True)\n",
    "    df.replace([\"moveis_decoracao\", \"moveis_escritorio\", \"moveis_sala\", \"moveis_cozinha_area_de_servico_jantar_e_jardim\", \"moveis_quarto\", \"moveis_colchao_e_estofado\"], \"móveis e decoração\", inplace=True)"
   ]
  }
 ],
 "metadata": {
  "hide_input": false,
  "kernelspec": {
   "display_name": "Python 3 (ipykernel)",
   "language": "python",
   "name": "python3"
  },
  "language_info": {
   "codemirror_mode": {
    "name": "ipython",
    "version": 3
   },
   "file_extension": ".py",
   "mimetype": "text/x-python",
   "name": "python",
   "nbconvert_exporter": "python",
   "pygments_lexer": "ipython3",
   "version": "3.11.7"
  },
  "varInspector": {
   "cols": {
    "lenName": 16,
    "lenType": 16,
    "lenVar": 40
   },
   "kernels_config": {
    "python": {
     "delete_cmd_postfix": "",
     "delete_cmd_prefix": "del ",
     "library": "var_list.py",
     "varRefreshCmd": "print(var_dic_list())"
    },
    "r": {
     "delete_cmd_postfix": ") ",
     "delete_cmd_prefix": "rm(",
     "library": "var_list.r",
     "varRefreshCmd": "cat(var_dic_list()) "
    }
   },
   "types_to_exclude": [
    "module",
    "function",
    "builtin_function_or_method",
    "instance",
    "_Feature"
   ],
   "window_display": false
  }
 },
 "nbformat": 4,
 "nbformat_minor": 5
}
