{
 "cells": [
  {
   "cell_type": "code",
   "execution_count": null,
   "id": "030135e7",
   "metadata": {
    "ExecuteTime": {
     "start_time": "2024-04-06T01:50:08.587Z"
    }
   },
   "outputs": [],
   "source": [
    "# Retire o comentário da linha abaixo caso vocÊ não possua a extensão instalada na sua máquina.\n",
    "#!pip install -q ipython-sql"
   ]
  },
  {
   "cell_type": "code",
   "execution_count": 1,
   "id": "2db6d46c",
   "metadata": {
    "ExecuteTime": {
     "end_time": "2024-04-06T02:15:48.064607Z",
     "start_time": "2024-04-06T02:15:47.755483Z"
    }
   },
   "outputs": [],
   "source": [
    "import pandas as pd\n",
    "import sqlite3"
   ]
  },
  {
   "cell_type": "code",
   "execution_count": 2,
   "id": "db100030",
   "metadata": {
    "ExecuteTime": {
     "end_time": "2024-04-06T02:15:49.021084Z",
     "start_time": "2024-04-06T02:15:48.843001Z"
    }
   },
   "outputs": [],
   "source": [
    "database = 'dbpima.db'\n",
    "\n",
    "%load_ext sql\n",
    "%sql sqlite:///dbpima.db"
   ]
  },
  {
   "cell_type": "code",
   "execution_count": 3,
   "id": "b4d3b2a1",
   "metadata": {
    "ExecuteTime": {
     "end_time": "2024-04-06T02:15:49.564050Z",
     "start_time": "2024-04-06T02:15:49.555207Z"
    }
   },
   "outputs": [],
   "source": [
    "df = pd.read_csv('diabetes.csv')"
   ]
  },
  {
   "cell_type": "code",
   "execution_count": 4,
   "id": "eca66f82",
   "metadata": {
    "ExecuteTime": {
     "end_time": "2024-04-06T02:15:50.344191Z",
     "start_time": "2024-04-06T02:15:50.330994Z"
    }
   },
   "outputs": [
    {
     "data": {
      "text/html": [
       "<div>\n",
       "<style scoped>\n",
       "    .dataframe tbody tr th:only-of-type {\n",
       "        vertical-align: middle;\n",
       "    }\n",
       "\n",
       "    .dataframe tbody tr th {\n",
       "        vertical-align: top;\n",
       "    }\n",
       "\n",
       "    .dataframe thead th {\n",
       "        text-align: right;\n",
       "    }\n",
       "</style>\n",
       "<table border=\"1\" class=\"dataframe\">\n",
       "  <thead>\n",
       "    <tr style=\"text-align: right;\">\n",
       "      <th></th>\n",
       "      <th>Pregnancies</th>\n",
       "      <th>Glucose</th>\n",
       "      <th>BloodPressure</th>\n",
       "      <th>SkinThickness</th>\n",
       "      <th>Insulin</th>\n",
       "      <th>BMI</th>\n",
       "      <th>DiabetesPedigreeFunction</th>\n",
       "      <th>Age</th>\n",
       "      <th>Outcome</th>\n",
       "    </tr>\n",
       "  </thead>\n",
       "  <tbody>\n",
       "    <tr>\n",
       "      <th>0</th>\n",
       "      <td>6</td>\n",
       "      <td>148</td>\n",
       "      <td>72</td>\n",
       "      <td>35</td>\n",
       "      <td>0</td>\n",
       "      <td>33.6</td>\n",
       "      <td>0.627</td>\n",
       "      <td>50</td>\n",
       "      <td>1</td>\n",
       "    </tr>\n",
       "    <tr>\n",
       "      <th>1</th>\n",
       "      <td>1</td>\n",
       "      <td>85</td>\n",
       "      <td>66</td>\n",
       "      <td>29</td>\n",
       "      <td>0</td>\n",
       "      <td>26.6</td>\n",
       "      <td>0.351</td>\n",
       "      <td>31</td>\n",
       "      <td>0</td>\n",
       "    </tr>\n",
       "    <tr>\n",
       "      <th>2</th>\n",
       "      <td>8</td>\n",
       "      <td>183</td>\n",
       "      <td>64</td>\n",
       "      <td>0</td>\n",
       "      <td>0</td>\n",
       "      <td>23.3</td>\n",
       "      <td>0.672</td>\n",
       "      <td>32</td>\n",
       "      <td>1</td>\n",
       "    </tr>\n",
       "    <tr>\n",
       "      <th>3</th>\n",
       "      <td>1</td>\n",
       "      <td>89</td>\n",
       "      <td>66</td>\n",
       "      <td>23</td>\n",
       "      <td>94</td>\n",
       "      <td>28.1</td>\n",
       "      <td>0.167</td>\n",
       "      <td>21</td>\n",
       "      <td>0</td>\n",
       "    </tr>\n",
       "    <tr>\n",
       "      <th>4</th>\n",
       "      <td>0</td>\n",
       "      <td>137</td>\n",
       "      <td>40</td>\n",
       "      <td>35</td>\n",
       "      <td>168</td>\n",
       "      <td>43.1</td>\n",
       "      <td>2.288</td>\n",
       "      <td>33</td>\n",
       "      <td>1</td>\n",
       "    </tr>\n",
       "  </tbody>\n",
       "</table>\n",
       "</div>"
      ],
      "text/plain": [
       "   Pregnancies  Glucose  BloodPressure  SkinThickness  Insulin   BMI  \\\n",
       "0            6      148             72             35        0  33.6   \n",
       "1            1       85             66             29        0  26.6   \n",
       "2            8      183             64              0        0  23.3   \n",
       "3            1       89             66             23       94  28.1   \n",
       "4            0      137             40             35      168  43.1   \n",
       "\n",
       "   DiabetesPedigreeFunction  Age  Outcome  \n",
       "0                     0.627   50        1  \n",
       "1                     0.351   31        0  \n",
       "2                     0.672   32        1  \n",
       "3                     0.167   21        0  \n",
       "4                     2.288   33        1  "
      ]
     },
     "execution_count": 4,
     "metadata": {},
     "output_type": "execute_result"
    }
   ],
   "source": [
    "df.head()"
   ]
  },
  {
   "cell_type": "code",
   "execution_count": 5,
   "id": "0dc5ce60",
   "metadata": {
    "ExecuteTime": {
     "end_time": "2024-04-06T02:15:51.112067Z",
     "start_time": "2024-04-06T02:15:51.099146Z"
    }
   },
   "outputs": [
    {
     "data": {
      "text/plain": [
       "768"
      ]
     },
     "execution_count": 5,
     "metadata": {},
     "output_type": "execute_result"
    }
   ],
   "source": [
    "# Criando a conexão com o banco de dados.\n",
    "cnn = sqlite3.connect(database)\n",
    "\n",
    "# Salvando o DataFrame df como arquivo sql.\n",
    "df.to_sql('diabetes', cnn, index=False)"
   ]
  },
  {
   "cell_type": "code",
   "execution_count": 6,
   "id": "2a5ae78d",
   "metadata": {
    "ExecuteTime": {
     "end_time": "2024-04-06T02:15:52.007679Z",
     "start_time": "2024-04-06T02:15:51.995111Z"
    }
   },
   "outputs": [
    {
     "name": "stdout",
     "output_type": "stream",
     "text": [
      " * sqlite:///dbpima.db\n",
      "Done.\n"
     ]
    },
    {
     "data": {
      "text/html": [
       "<table>\n",
       "    <thead>\n",
       "        <tr>\n",
       "            <th>Pregnancies</th>\n",
       "            <th>Glucose</th>\n",
       "            <th>BloodPressure</th>\n",
       "            <th>SkinThickness</th>\n",
       "            <th>Insulin</th>\n",
       "            <th>BMI</th>\n",
       "            <th>DiabetesPedigreeFunction</th>\n",
       "            <th>Age</th>\n",
       "            <th>Outcome</th>\n",
       "        </tr>\n",
       "    </thead>\n",
       "    <tbody>\n",
       "        <tr>\n",
       "            <td>6</td>\n",
       "            <td>148</td>\n",
       "            <td>72</td>\n",
       "            <td>35</td>\n",
       "            <td>0</td>\n",
       "            <td>33.6</td>\n",
       "            <td>0.627</td>\n",
       "            <td>50</td>\n",
       "            <td>1</td>\n",
       "        </tr>\n",
       "        <tr>\n",
       "            <td>1</td>\n",
       "            <td>85</td>\n",
       "            <td>66</td>\n",
       "            <td>29</td>\n",
       "            <td>0</td>\n",
       "            <td>26.6</td>\n",
       "            <td>0.351</td>\n",
       "            <td>31</td>\n",
       "            <td>0</td>\n",
       "        </tr>\n",
       "        <tr>\n",
       "            <td>8</td>\n",
       "            <td>183</td>\n",
       "            <td>64</td>\n",
       "            <td>0</td>\n",
       "            <td>0</td>\n",
       "            <td>23.3</td>\n",
       "            <td>0.672</td>\n",
       "            <td>32</td>\n",
       "            <td>1</td>\n",
       "        </tr>\n",
       "        <tr>\n",
       "            <td>1</td>\n",
       "            <td>89</td>\n",
       "            <td>66</td>\n",
       "            <td>23</td>\n",
       "            <td>94</td>\n",
       "            <td>28.1</td>\n",
       "            <td>0.167</td>\n",
       "            <td>21</td>\n",
       "            <td>0</td>\n",
       "        </tr>\n",
       "        <tr>\n",
       "            <td>0</td>\n",
       "            <td>137</td>\n",
       "            <td>40</td>\n",
       "            <td>35</td>\n",
       "            <td>168</td>\n",
       "            <td>43.1</td>\n",
       "            <td>2.288</td>\n",
       "            <td>33</td>\n",
       "            <td>1</td>\n",
       "        </tr>\n",
       "    </tbody>\n",
       "</table>"
      ],
      "text/plain": [
       "[(6, 148, 72, 35, 0, 33.6, 0.627, 50, 1),\n",
       " (1, 85, 66, 29, 0, 26.6, 0.351, 31, 0),\n",
       " (8, 183, 64, 0, 0, 23.3, 0.672, 32, 1),\n",
       " (1, 89, 66, 23, 94, 28.1, 0.167, 21, 0),\n",
       " (0, 137, 40, 35, 168, 43.1, 2.288, 33, 1)]"
      ]
     },
     "execution_count": 6,
     "metadata": {},
     "output_type": "execute_result"
    }
   ],
   "source": [
    "%%sql\n",
    "\n",
    "SELECT * FROM diabetes LIMIT 5"
   ]
  },
  {
   "cell_type": "code",
   "execution_count": 7,
   "id": "60325b12",
   "metadata": {
    "ExecuteTime": {
     "end_time": "2024-04-06T02:15:52.985447Z",
     "start_time": "2024-04-06T02:15:52.979104Z"
    }
   },
   "outputs": [
    {
     "name": "stdout",
     "output_type": "stream",
     "text": [
      " * sqlite:///dbpima.db\n",
      "Done.\n"
     ]
    },
    {
     "data": {
      "text/html": [
       "<table>\n",
       "    <thead>\n",
       "        <tr>\n",
       "            <th>Age</th>\n",
       "            <th>Glucose</th>\n",
       "            <th>Outcome</th>\n",
       "        </tr>\n",
       "    </thead>\n",
       "    <tbody>\n",
       "        <tr>\n",
       "            <td>53</td>\n",
       "            <td>197</td>\n",
       "            <td>1</td>\n",
       "        </tr>\n",
       "        <tr>\n",
       "            <td>41</td>\n",
       "            <td>196</td>\n",
       "            <td>1</td>\n",
       "        </tr>\n",
       "        <tr>\n",
       "            <td>41</td>\n",
       "            <td>194</td>\n",
       "            <td>1</td>\n",
       "        </tr>\n",
       "        <tr>\n",
       "            <td>57</td>\n",
       "            <td>196</td>\n",
       "            <td>1</td>\n",
       "        </tr>\n",
       "        <tr>\n",
       "            <td>31</td>\n",
       "            <td>197</td>\n",
       "            <td>0</td>\n",
       "        </tr>\n",
       "        <tr>\n",
       "            <td>24</td>\n",
       "            <td>193</td>\n",
       "            <td>0</td>\n",
       "        </tr>\n",
       "        <tr>\n",
       "            <td>34</td>\n",
       "            <td>191</td>\n",
       "            <td>0</td>\n",
       "        </tr>\n",
       "        <tr>\n",
       "            <td>59</td>\n",
       "            <td>194</td>\n",
       "            <td>1</td>\n",
       "        </tr>\n",
       "        <tr>\n",
       "            <td>29</td>\n",
       "            <td>196</td>\n",
       "            <td>1</td>\n",
       "        </tr>\n",
       "        <tr>\n",
       "            <td>25</td>\n",
       "            <td>193</td>\n",
       "            <td>1</td>\n",
       "        </tr>\n",
       "        <tr>\n",
       "            <td>39</td>\n",
       "            <td>197</td>\n",
       "            <td>1</td>\n",
       "        </tr>\n",
       "        <tr>\n",
       "            <td>67</td>\n",
       "            <td>194</td>\n",
       "            <td>0</td>\n",
       "        </tr>\n",
       "        <tr>\n",
       "            <td>55</td>\n",
       "            <td>195</td>\n",
       "            <td>1</td>\n",
       "        </tr>\n",
       "        <tr>\n",
       "            <td>28</td>\n",
       "            <td>198</td>\n",
       "            <td>1</td>\n",
       "        </tr>\n",
       "        <tr>\n",
       "            <td>62</td>\n",
       "            <td>197</td>\n",
       "            <td>1</td>\n",
       "        </tr>\n",
       "        <tr>\n",
       "            <td>22</td>\n",
       "            <td>199</td>\n",
       "            <td>1</td>\n",
       "        </tr>\n",
       "        <tr>\n",
       "            <td>31</td>\n",
       "            <td>195</td>\n",
       "            <td>1</td>\n",
       "        </tr>\n",
       "    </tbody>\n",
       "</table>"
      ],
      "text/plain": [
       "[(53, 197, 1),\n",
       " (41, 196, 1),\n",
       " (41, 194, 1),\n",
       " (57, 196, 1),\n",
       " (31, 197, 0),\n",
       " (24, 193, 0),\n",
       " (34, 191, 0),\n",
       " (59, 194, 1),\n",
       " (29, 196, 1),\n",
       " (25, 193, 1),\n",
       " (39, 197, 1),\n",
       " (67, 194, 0),\n",
       " (55, 195, 1),\n",
       " (28, 198, 1),\n",
       " (62, 197, 1),\n",
       " (22, 199, 1),\n",
       " (31, 195, 1)]"
      ]
     },
     "execution_count": 7,
     "metadata": {},
     "output_type": "execute_result"
    }
   ],
   "source": [
    "%%sql\n",
    "SELECT \n",
    "    Age, \n",
    "    Glucose, \n",
    "    Outcome \n",
    "FROM \n",
    "    diabetes \n",
    "WHERE \n",
    "    Glucose > 190"
   ]
  },
  {
   "cell_type": "code",
   "execution_count": 8,
   "id": "976d3983",
   "metadata": {
    "ExecuteTime": {
     "end_time": "2024-04-06T02:15:56.942315Z",
     "start_time": "2024-04-06T02:15:56.939178Z"
    }
   },
   "outputs": [],
   "source": [
    "df_result = cnn.execute(\"SELECT Age, Glucose, Outcome FROM diabetes WHERE Glucose > 190\")"
   ]
  },
  {
   "cell_type": "code",
   "execution_count": 9,
   "id": "c0c769bb",
   "metadata": {
    "ExecuteTime": {
     "end_time": "2024-04-06T02:15:57.408359Z",
     "start_time": "2024-04-06T02:15:57.404280Z"
    }
   },
   "outputs": [
    {
     "data": {
      "text/plain": [
       "(('Age', None, None, None, None, None, None),\n",
       " ('Glucose', None, None, None, None, None, None),\n",
       " ('Outcome', None, None, None, None, None, None))"
      ]
     },
     "execution_count": 9,
     "metadata": {},
     "output_type": "execute_result"
    }
   ],
   "source": [
    "df_result.description"
   ]
  },
  {
   "cell_type": "code",
   "execution_count": 10,
   "id": "0c054849",
   "metadata": {
    "ExecuteTime": {
     "end_time": "2024-04-06T02:15:58.087684Z",
     "start_time": "2024-04-06T02:15:58.083166Z"
    }
   },
   "outputs": [
    {
     "data": {
      "text/plain": [
       "['Age', 'Glucose', 'Outcome']"
      ]
     },
     "execution_count": 10,
     "metadata": {},
     "output_type": "execute_result"
    }
   ],
   "source": [
    "columns = [col[0] for col in df_result.description]\n",
    "columns"
   ]
  },
  {
   "cell_type": "code",
   "execution_count": 11,
   "id": "5f41d7ac",
   "metadata": {
    "ExecuteTime": {
     "end_time": "2024-04-06T02:15:58.674974Z",
     "start_time": "2024-04-06T02:15:58.667161Z"
    }
   },
   "outputs": [
    {
     "data": {
      "text/html": [
       "<div>\n",
       "<style scoped>\n",
       "    .dataframe tbody tr th:only-of-type {\n",
       "        vertical-align: middle;\n",
       "    }\n",
       "\n",
       "    .dataframe tbody tr th {\n",
       "        vertical-align: top;\n",
       "    }\n",
       "\n",
       "    .dataframe thead th {\n",
       "        text-align: right;\n",
       "    }\n",
       "</style>\n",
       "<table border=\"1\" class=\"dataframe\">\n",
       "  <thead>\n",
       "    <tr style=\"text-align: right;\">\n",
       "      <th></th>\n",
       "      <th>Age</th>\n",
       "      <th>Glucose</th>\n",
       "      <th>Outcome</th>\n",
       "    </tr>\n",
       "  </thead>\n",
       "  <tbody>\n",
       "    <tr>\n",
       "      <th>0</th>\n",
       "      <td>53</td>\n",
       "      <td>197</td>\n",
       "      <td>1</td>\n",
       "    </tr>\n",
       "    <tr>\n",
       "      <th>1</th>\n",
       "      <td>41</td>\n",
       "      <td>196</td>\n",
       "      <td>1</td>\n",
       "    </tr>\n",
       "    <tr>\n",
       "      <th>2</th>\n",
       "      <td>41</td>\n",
       "      <td>194</td>\n",
       "      <td>1</td>\n",
       "    </tr>\n",
       "    <tr>\n",
       "      <th>3</th>\n",
       "      <td>57</td>\n",
       "      <td>196</td>\n",
       "      <td>1</td>\n",
       "    </tr>\n",
       "    <tr>\n",
       "      <th>4</th>\n",
       "      <td>31</td>\n",
       "      <td>197</td>\n",
       "      <td>0</td>\n",
       "    </tr>\n",
       "    <tr>\n",
       "      <th>5</th>\n",
       "      <td>24</td>\n",
       "      <td>193</td>\n",
       "      <td>0</td>\n",
       "    </tr>\n",
       "    <tr>\n",
       "      <th>6</th>\n",
       "      <td>34</td>\n",
       "      <td>191</td>\n",
       "      <td>0</td>\n",
       "    </tr>\n",
       "    <tr>\n",
       "      <th>7</th>\n",
       "      <td>59</td>\n",
       "      <td>194</td>\n",
       "      <td>1</td>\n",
       "    </tr>\n",
       "    <tr>\n",
       "      <th>8</th>\n",
       "      <td>29</td>\n",
       "      <td>196</td>\n",
       "      <td>1</td>\n",
       "    </tr>\n",
       "    <tr>\n",
       "      <th>9</th>\n",
       "      <td>25</td>\n",
       "      <td>193</td>\n",
       "      <td>1</td>\n",
       "    </tr>\n",
       "    <tr>\n",
       "      <th>10</th>\n",
       "      <td>39</td>\n",
       "      <td>197</td>\n",
       "      <td>1</td>\n",
       "    </tr>\n",
       "    <tr>\n",
       "      <th>11</th>\n",
       "      <td>67</td>\n",
       "      <td>194</td>\n",
       "      <td>0</td>\n",
       "    </tr>\n",
       "    <tr>\n",
       "      <th>12</th>\n",
       "      <td>55</td>\n",
       "      <td>195</td>\n",
       "      <td>1</td>\n",
       "    </tr>\n",
       "    <tr>\n",
       "      <th>13</th>\n",
       "      <td>28</td>\n",
       "      <td>198</td>\n",
       "      <td>1</td>\n",
       "    </tr>\n",
       "    <tr>\n",
       "      <th>14</th>\n",
       "      <td>62</td>\n",
       "      <td>197</td>\n",
       "      <td>1</td>\n",
       "    </tr>\n",
       "    <tr>\n",
       "      <th>15</th>\n",
       "      <td>22</td>\n",
       "      <td>199</td>\n",
       "      <td>1</td>\n",
       "    </tr>\n",
       "    <tr>\n",
       "      <th>16</th>\n",
       "      <td>31</td>\n",
       "      <td>195</td>\n",
       "      <td>1</td>\n",
       "    </tr>\n",
       "  </tbody>\n",
       "</table>\n",
       "</div>"
      ],
      "text/plain": [
       "    Age  Glucose  Outcome\n",
       "0    53      197        1\n",
       "1    41      196        1\n",
       "2    41      194        1\n",
       "3    57      196        1\n",
       "4    31      197        0\n",
       "5    24      193        0\n",
       "6    34      191        0\n",
       "7    59      194        1\n",
       "8    29      196        1\n",
       "9    25      193        1\n",
       "10   39      197        1\n",
       "11   67      194        0\n",
       "12   55      195        1\n",
       "13   28      198        1\n",
       "14   62      197        1\n",
       "15   22      199        1\n",
       "16   31      195        1"
      ]
     },
     "execution_count": 11,
     "metadata": {},
     "output_type": "execute_result"
    }
   ],
   "source": [
    "resultado = pd.DataFrame.from_records(data = df_result.fetchall(), columns = columns)\n",
    "resultado"
   ]
  }
 ],
 "metadata": {
  "hide_input": false,
  "kernelspec": {
   "display_name": "Python 3 (ipykernel)",
   "language": "python",
   "name": "python3"
  },
  "language_info": {
   "codemirror_mode": {
    "name": "ipython",
    "version": 3
   },
   "file_extension": ".py",
   "mimetype": "text/x-python",
   "name": "python",
   "nbconvert_exporter": "python",
   "pygments_lexer": "ipython3",
   "version": "3.11.4"
  },
  "toc": {
   "base_numbering": 1,
   "nav_menu": {},
   "number_sections": true,
   "sideBar": true,
   "skip_h1_title": false,
   "title_cell": "Table of Contents",
   "title_sidebar": "Contents",
   "toc_cell": false,
   "toc_position": {},
   "toc_section_display": true,
   "toc_window_display": false
  },
  "varInspector": {
   "cols": {
    "lenName": 16,
    "lenType": 16,
    "lenVar": 40
   },
   "kernels_config": {
    "python": {
     "delete_cmd_postfix": "",
     "delete_cmd_prefix": "del ",
     "library": "var_list.py",
     "varRefreshCmd": "print(var_dic_list())"
    },
    "r": {
     "delete_cmd_postfix": ") ",
     "delete_cmd_prefix": "rm(",
     "library": "var_list.r",
     "varRefreshCmd": "cat(var_dic_list()) "
    }
   },
   "types_to_exclude": [
    "module",
    "function",
    "builtin_function_or_method",
    "instance",
    "_Feature"
   ],
   "window_display": false
  }
 },
 "nbformat": 4,
 "nbformat_minor": 5
}
